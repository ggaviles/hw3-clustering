{
 "cells": [
  {
   "cell_type": "code",
   "execution_count": 4,
   "metadata": {
    "collapsed": true
   },
   "outputs": [],
   "source": [
    "import numpy as np\n",
    "\n",
    "def make_clusters(\n",
    "        n: int = 500,\n",
    "        m: int = 2,\n",
    "        k: int = 3,\n",
    "        bounds: tuple = (-10, 10),\n",
    "        scale: float = 1,\n",
    "        seed: int = 42) -> (np.ndarray, np.ndarray):\n",
    "    \"\"\"\n",
    "    creates some clustered data\n",
    "\n",
    "    inputs:\n",
    "        n: int\n",
    "            number of observations\n",
    "        m: int\n",
    "            number of features\n",
    "        k: int\n",
    "            number of clusters\n",
    "        bounds: tuple\n",
    "            minimum and maximum bounds for cluster grid\n",
    "        scale: float\n",
    "            standard deviation of normal distribution\n",
    "        seed: int\n",
    "            random seed\n",
    "\n",
    "    outputs:\n",
    "        (np.ndarray, np.ndarray)\n",
    "            returns a 2D matrix of `n` observations and `m` features that are clustered into `k` groups\n",
    "            returns a 1D array of `n` size that defines the cluster origin for each observation\n",
    "    \"\"\"\n",
    "    np.random.seed(seed)\n",
    "    assert k <= n\n",
    "\n",
    "    labels = np.sort(np.random.randint(0, k, size=n))\n",
    "    centers = np.random.uniform(bounds[0], bounds[1], size=(k,m))\n",
    "    mat = np.vstack([\n",
    "        np.random.normal(\n",
    "            loc=centers[idx],\n",
    "            scale=scale,\n",
    "            size=(np.sum(labels==idx), m))\n",
    "        for idx in np.arange(0, k)])\n",
    "\n",
    "    return mat, labels"
   ]
  },
  {
   "cell_type": "code",
   "execution_count": 54,
   "outputs": [],
   "source": [
    "mat, labels = make_clusters(3, 2, 3, (-10, 10), 1, 42)"
   ],
   "metadata": {
    "collapsed": false
   }
  },
  {
   "cell_type": "code",
   "execution_count": 55,
   "outputs": [
    {
     "name": "stdout",
     "output_type": "stream",
     "text": [
      "[[ 6.21909165  2.74060441]\n",
      " [-9.30780214  7.86608296]\n",
      " [-9.30174545  6.85779316]]\n"
     ]
    }
   ],
   "source": [
    "print(mat)"
   ],
   "metadata": {
    "collapsed": false
   }
  },
  {
   "cell_type": "code",
   "execution_count": 28,
   "outputs": [
    {
     "name": "stdout",
     "output_type": "stream",
     "text": [
      "[0 2 2]\n"
     ]
    }
   ],
   "source": [
    "print(labels)"
   ],
   "metadata": {
    "collapsed": false
   }
  },
  {
   "cell_type": "code",
   "execution_count": 40,
   "outputs": [
    {
     "name": "stdout",
     "output_type": "stream",
     "text": [
      "[[-9.30174545  6.85779316]]\n"
     ]
    }
   ],
   "source": [
    "random_index = np.random.choice(np.arange(mat.shape[0]), size=1)\n",
    "random_center_point = mat[random_index]\n",
    "print(random_center_point)"
   ],
   "metadata": {
    "collapsed": false
   }
  },
  {
   "cell_type": "code",
   "execution_count": 41,
   "outputs": [
    {
     "name": "stdout",
     "output_type": "stream",
     "text": [
      "[[16.05763456  1.00830799  0.        ]]\n"
     ]
    }
   ],
   "source": [
    "from scipy.spatial.distance import cdist\n",
    "dist = cdist(random_center_point, mat, 'euclidean')\n",
    "print(dist)"
   ],
   "metadata": {
    "collapsed": false
   }
  },
  {
   "cell_type": "code",
   "execution_count": 42,
   "outputs": [
    {
     "name": "stdout",
     "output_type": "stream",
     "text": [
      "[[257.84762752   1.016685     0.        ]]\n"
     ]
    }
   ],
   "source": [
    "square_dist = np.square(dist)\n",
    "print(square_dist)"
   ],
   "metadata": {
    "collapsed": false
   }
  },
  {
   "cell_type": "code",
   "execution_count": 44,
   "outputs": [
    {
     "name": "stdout",
     "output_type": "stream",
     "text": [
      "258.8643125136015\n"
     ]
    }
   ],
   "source": [
    "sum_dist = np.sum(square_dist)\n",
    "print(sum_dist)"
   ],
   "metadata": {
    "collapsed": false
   }
  },
  {
   "cell_type": "code",
   "execution_count": 45,
   "outputs": [
    {
     "name": "stdout",
     "output_type": "stream",
     "text": [
      "[[0.99607252 0.00392748 0.        ]]\n"
     ]
    }
   ],
   "source": [
    "prob_dist = square_dist / sum_dist\n",
    "print(prob_dist)"
   ],
   "metadata": {
    "collapsed": false
   }
  },
  {
   "cell_type": "code",
   "execution_count": 113,
   "outputs": [
    {
     "name": "stdout",
     "output_type": "stream",
     "text": [
      "[[ 6.21909165  2.74060441]\n",
      " [-9.30780214  7.86608296]\n",
      " [-9.30174545  6.85779316]]\n"
     ]
    },
    {
     "data": {
      "text/plain": "2"
     },
     "execution_count": 113,
     "metadata": {},
     "output_type": "execute_result"
    }
   ],
   "source": [
    "print(mat)\n",
    "mat.ndim"
   ],
   "metadata": {
    "collapsed": false
   }
  },
  {
   "cell_type": "code",
   "execution_count": 109,
   "outputs": [],
   "source": [
    "# Generate random x coordinate for initial centroid within range of data points\n",
    "random_centroid_x = np.random.uniform(low=np.min(mat[:, 0]), high=np.max(mat[:, 0]))\n",
    "\n",
    "# Generate random y coordinate for initial centroid within range of data points\n",
    "random_centroid_y = np.random.uniform(low=np.min(mat[:, 1]), high=np.max(mat[:, 1]))"
   ],
   "metadata": {
    "collapsed": false
   }
  },
  {
   "cell_type": "code",
   "execution_count": 117,
   "outputs": [],
   "source": [
    "bounds = (random_centroid_x, random_centroid_y)"
   ],
   "metadata": {
    "collapsed": false
   }
  },
  {
   "cell_type": "code",
   "execution_count": 118,
   "outputs": [],
   "source": [
    "random_centroid = np.random.uniform(bounds[0], bounds[1], size=(1,2))"
   ],
   "metadata": {
    "collapsed": false
   }
  },
  {
   "cell_type": "code",
   "execution_count": 119,
   "outputs": [
    {
     "name": "stdout",
     "output_type": "stream",
     "text": [
      "[[ 1.37798466 -1.46121733]]\n"
     ]
    }
   ],
   "source": [
    "print(random_centroid)"
   ],
   "metadata": {
    "collapsed": false
   }
  },
  {
   "cell_type": "code",
   "execution_count": 122,
   "outputs": [
    {
     "name": "stdout",
     "output_type": "stream",
     "text": [
      "[[0.09656376 0.47277613 0.43066011]]\n"
     ]
    }
   ],
   "source": [
    "# Calculate the Euclidean distance between the random centroid and the rest of the points\n",
    "dist = cdist(random_centroid, mat, 'euclidean')\n",
    "\n",
    "# Square the distances between the random centroid and the rest of the points\n",
    "square_dist = np.square(dist)\n",
    "\n",
    "# Sum the squared the distances\n",
    "sum_dist = np.sum(square_dist)\n",
    "\n",
    "# Divide each element in the squared distances array by the sum of all the squared distances\n",
    "prob_dist = square_dist / sum_dist\n",
    "\n",
    "print(prob_dist)"
   ],
   "metadata": {
    "collapsed": false
   }
  },
  {
   "cell_type": "code",
   "execution_count": 123,
   "outputs": [],
   "source": [
    "%config IPCompleter.greedy=True"
   ],
   "metadata": {
    "collapsed": false
   }
  },
  {
   "cell_type": "code",
   "execution_count": null,
   "outputs": [],
   "source": [],
   "metadata": {
    "collapsed": false
   }
  }
 ],
 "metadata": {
  "kernelspec": {
   "display_name": "Python 3",
   "language": "python",
   "name": "python3"
  },
  "language_info": {
   "codemirror_mode": {
    "name": "ipython",
    "version": 2
   },
   "file_extension": ".py",
   "mimetype": "text/x-python",
   "name": "python",
   "nbconvert_exporter": "python",
   "pygments_lexer": "ipython2",
   "version": "2.7.6"
  }
 },
 "nbformat": 4,
 "nbformat_minor": 0
}
