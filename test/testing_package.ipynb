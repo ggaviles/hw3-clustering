{
 "cells": [
  {
   "cell_type": "code",
   "execution_count": 115,
   "metadata": {},
   "outputs": [],
   "source": [
    "from cluster import KMeans, make_clusters\n",
    "import numpy as np"
   ]
  },
  {
   "cell_type": "code",
   "execution_count": 116,
   "metadata": {},
   "outputs": [],
   "source": [
    "kmeans = KMeans(3, tol=1e-6, max_iter=100)"
   ]
  },
  {
   "cell_type": "code",
   "execution_count": 117,
   "metadata": {},
   "outputs": [],
   "source": [
    "mat, labels = make_clusters()"
   ]
  },
  {
   "cell_type": "code",
   "execution_count": 118,
   "metadata": {},
   "outputs": [],
   "source": [
    "random_centroid_x = np.random.uniform(low=np.min(mat[:, 0]), high=np.max(mat[:, 0]))\n",
    "\n",
    "# Generate random y coordinate for initial centroid within range of data points\n",
    "random_centroid_y = np.random.uniform(low=np.min(mat[:, 1]), high=np.max(mat[:, 1]))\n",
    "\n",
    "# Create a 2D array with centroid x, y values\n",
    "random_centroid_arr = np.array([[random_centroid_x, random_centroid_y]])"
   ]
  },
  {
   "cell_type": "code",
   "execution_count": 119,
   "metadata": {},
   "outputs": [
    {
     "name": "stdout",
     "output_type": "stream",
     "text": [
      "[[-10.60840815  10.38365128]]\n"
     ]
    }
   ],
   "source": [
    "print(random_centroid_arr)"
   ]
  },
  {
   "cell_type": "code",
   "execution_count": 120,
   "metadata": {},
   "outputs": [],
   "source": [
    "from scipy.spatial.distance import cdist\n",
    "dist = cdist(random_centroid_arr, mat, 'euclidean')"
   ]
  },
  {
   "cell_type": "code",
   "execution_count": 121,
   "metadata": {},
   "outputs": [
    {
     "name": "stdout",
     "output_type": "stream",
     "text": [
      "[[0. 0.]\n",
      " [0. 0.]\n",
      " [0. 0.]]\n"
     ]
    }
   ],
   "source": [
    "# Initialize an array of centroids with dimensions k x m\n",
    "col_num = len(mat[0])\n",
    "centroid_array = np.zeros(shape=(kmeans.k, col_num))\n",
    "print(centroid_array)"
   ]
  },
  {
   "cell_type": "code",
   "execution_count": 100,
   "metadata": {},
   "outputs": [
    {
     "name": "stdout",
     "output_type": "stream",
     "text": [
      "[[-0.18331639  7.72089421]]\n"
     ]
    }
   ],
   "source": [
    "from scipy.spatial.distance import cdist\n",
    "# Generate initial centroid array\n",
    "init_centroid_array = kmeans._generate_init_centroid(mat)\n",
    "print(init_centroid_array)"
   ]
  },
  {
   "cell_type": "code",
   "execution_count": 101,
   "metadata": {},
   "outputs": [
    {
     "ename": "NameError",
     "evalue": "name 'centroi' is not defined",
     "output_type": "error",
     "traceback": [
      "\u001B[0;31m---------------------------------------------------------------------------\u001B[0m",
      "\u001B[0;31mNameError\u001B[0m                                 Traceback (most recent call last)",
      "Cell \u001B[0;32mIn[101], line 3\u001B[0m\n\u001B[1;32m      1\u001B[0m \u001B[38;5;66;03m# Add initial centroid array to array of centroids\u001B[39;00m\n\u001B[1;32m      2\u001B[0m centroid_array \u001B[38;5;241m=\u001B[39m np\u001B[38;5;241m.\u001B[39mappend(centroid_array, init_centroid_array)\n\u001B[0;32m----> 3\u001B[0m \u001B[43mcentroi\u001B[49m\n",
      "\u001B[0;31mNameError\u001B[0m: name 'centroi' is not defined"
     ]
    }
   ],
   "source": [
    "# Add initial centroid array to array of centroids\n",
    "centroid_array = np.append(centroid_array, init_centroid_array)\n",
    "centroi"
   ]
  },
  {
   "cell_type": "code",
   "execution_count": 122,
   "metadata": {},
   "outputs": [
    {
     "name": "stdout",
     "output_type": "stream",
     "text": [
      "[[0. 0.]\n",
      " [0. 0.]\n",
      " [0. 0.]]\n"
     ]
    }
   ],
   "source": [
    "# already defined centroid_array to have dimension k=3 so while loop doesnt even start\n",
    "# change while loop \n",
    "# Generate k number of centroids\n",
    "\n",
    "max_iter_counter = 1\n",
    "\n",
    "# Calculate distance from centroid to rest of points\n",
    "dist = cdist(init_centroid_array, mat, 'euclidean')\n",
    "\n",
    "# Square the distances between the random centroid and the rest of the points\n",
    "square_dist = np.square(dist)\n",
    "\n",
    "# Sum the squared the distances\n",
    "sum_dist = np.sum(square_dist)\n",
    "\n",
    "# Divide each element in the squared distances array by the sum of all the squared distances\n",
    "prob_dist = square_dist / sum_dist\n",
    "\n",
    "# Calculate the cumulative probability\n",
    "cumulative_probs = prob_dist.cumsum()\n",
    "\n",
    "# Choose a random number r\n",
    "r = np.random.random()\n",
    "\n",
    "# Find the first set of centroid coordinates\n",
    "index = np.where(cumulative_probs >= r)[0][0]\n",
    "\n",
    "# Returns new center\n",
    "new_center = mat[index]\n",
    "\n",
    "while max_iter_counter < kmeans.max_iter:\n",
    "\n",
    "    while len(centroid_array) < kmeans.k:\n",
    "        # Append new centroid array to centroid array\n",
    "        np.append(centroid_array, new_centroid_array)\n",
    "    \n",
    "    # max_iter_counter\n",
    "    max_iter_counter += 1\n",
    "\n",
    "kmeans.centroids = centroid_array\n",
    "print(kmeans.centroids)"
   ]
  },
  {
   "cell_type": "code",
   "execution_count": 62,
   "metadata": {},
   "outputs": [
    {
     "name": "stdout",
     "output_type": "stream",
     "text": [
      "[[0.]\n",
      " [0.]]\n"
     ]
    }
   ],
   "source": [
    "a = np.zeros(shape=(2,1))\n",
    "print(a)"
   ]
  },
  {
   "cell_type": "code",
   "execution_count": 65,
   "metadata": {},
   "outputs": [],
   "source": [
    "a = np.append(a, [1,2])"
   ]
  },
  {
   "cell_type": "code",
   "execution_count": 66,
   "metadata": {},
   "outputs": [
    {
     "name": "stdout",
     "output_type": "stream",
     "text": [
      "[0. 0. 1. 2.]\n"
     ]
    }
   ],
   "source": [
    "print(a)"
   ]
  },
  {
   "cell_type": "code",
   "execution_count": 70,
   "metadata": {},
   "outputs": [],
   "source": [
    "a = np.append(a, [3, 4])"
   ]
  },
  {
   "cell_type": "code",
   "execution_count": 71,
   "metadata": {},
   "outputs": [
    {
     "name": "stdout",
     "output_type": "stream",
     "text": [
      "[0. 0. 1. 2. 3. 4. 3. 4.]\n"
     ]
    }
   ],
   "source": [
    "print(a)"
   ]
  },
  {
   "cell_type": "code",
   "execution_count": 75,
   "metadata": {},
   "outputs": [],
   "source": [
    "for index, item in enumerate(a):\n",
    "    a[index] = 1"
   ]
  },
  {
   "cell_type": "code",
   "execution_count": 77,
   "metadata": {},
   "outputs": [
    {
     "name": "stdout",
     "output_type": "stream",
     "text": [
      "[1. 1. 1. 1. 1. 1. 1. 1.]\n"
     ]
    }
   ],
   "source": [
    "print(a)"
   ]
  },
  {
   "cell_type": "code",
   "execution_count": 103,
   "metadata": {},
   "outputs": [
    {
     "name": "stdout",
     "output_type": "stream",
     "text": [
      "[[-9.571403695852785, 10.642187053192218]]\n"
     ]
    }
   ],
   "source": [
    "centers = []\n",
    "initial_index = np.random.choice(range(mat.shape[0]), )\n",
    "centers.append(mat[initial_index, :].tolist())\n",
    "print(centers)"
   ]
  },
  {
   "cell_type": "code",
   "execution_count": 146,
   "metadata": {},
   "outputs": [],
   "source": [
    "def generate_init_centroid(self, mat: np.ndarray) -> np.ndarray:\n",
    "    # Generate random x coordinate for initial centroid within range of data points\n",
    "    # random_centroid_x = np.random.uniform(low=np.min(mat[:, 0]), high=np.max(mat[:, 0]))\n",
    "\n",
    "    # Generate random y coordinate for initial centroid within range of data points\n",
    "    # random_centroid_y = np.random.uniform(low=np.min(mat[:, 1]), high=np.max(mat[:, 1]))\n",
    "\n",
    "    # Create a 2D array with centroid x, y values\n",
    "    # random_centroid_arr = np.array([[random_centroid_x, random_centroid_y]])\n",
    "\n",
    "    centers = []\n",
    "    initial_index = np.random.choice(range(mat.shape[0]), )\n",
    "    centers.append(mat[initial_index, :].tolist())\n",
    "\n",
    "    for i in range(kmeans.k - 1):\n",
    "        dist = cdist(mat, np.array(centers))\n",
    "\n",
    "        # Square the distances between the random centroid and the rest of the points\n",
    "        square_dist = np.square(dist)\n",
    "\n",
    "        # Sum the squared the distances\n",
    "        sum_dist = np.sum(square_dist)\n",
    "\n",
    "        # Divide each element in the squared distances array by the sum of all the squared distances\n",
    "        prob_dist = square_dist / sum_dist\n",
    "\n",
    "        # Calculate the cumulative probability\n",
    "        cumulative_probs = prob_dist.cumsum()\n",
    "\n",
    "        # Choose a random number r\n",
    "        r = np.random.random()\n",
    "\n",
    "        # Find the first set of coordinates\n",
    "        index = np.where(cumulative_probs >= r)[0][0]\n",
    "\n",
    "        new_centro\n",
    "        centers.append(new_centroid.tolist())\n",
    "\n",
    "    return np.array(centers)"
   ]
  },
  {
   "cell_type": "code",
   "execution_count": 147,
   "metadata": {},
   "outputs": [
    {
     "name": "stdout",
     "output_type": "stream",
     "text": [
      "525\n"
     ]
    },
    {
     "ename": "IndexError",
     "evalue": "index 525 is out of bounds for axis 0 with size 500",
     "output_type": "error",
     "traceback": [
      "\u001B[0;31m---------------------------------------------------------------------------\u001B[0m",
      "\u001B[0;31mIndexError\u001B[0m                                Traceback (most recent call last)",
      "Cell \u001B[0;32mIn[147], line 1\u001B[0m\n\u001B[0;32m----> 1\u001B[0m centroids \u001B[38;5;241m=\u001B[39m \u001B[43mgenerate_init_centroid\u001B[49m\u001B[43m(\u001B[49m\u001B[43mkmeans\u001B[49m\u001B[43m,\u001B[49m\u001B[43m \u001B[49m\u001B[43mmat\u001B[49m\u001B[43m)\u001B[49m\n",
      "Cell \u001B[0;32mIn[146], line 54\u001B[0m, in \u001B[0;36mgenerate_init_centroid\u001B[0;34m(self, mat)\u001B[0m\n\u001B[1;32m     52\u001B[0m     index \u001B[38;5;241m=\u001B[39m np\u001B[38;5;241m.\u001B[39mwhere(cumulative_probs \u001B[38;5;241m>\u001B[39m\u001B[38;5;241m=\u001B[39m r)[\u001B[38;5;241m0\u001B[39m][\u001B[38;5;241m0\u001B[39m]\n\u001B[1;32m     53\u001B[0m     \u001B[38;5;28mprint\u001B[39m(index)\n\u001B[0;32m---> 54\u001B[0m     new_centroid \u001B[38;5;241m=\u001B[39m \u001B[43mmat\u001B[49m\u001B[43m[\u001B[49m\u001B[43mindex\u001B[49m\u001B[43m]\u001B[49m\n\u001B[1;32m     55\u001B[0m \u001B[38;5;66;03m#else:\u001B[39;00m\n\u001B[1;32m     56\u001B[0m     \u001B[38;5;66;03m#index_max = np.argmax(dist_min, axis=0)\u001B[39;00m\n\u001B[1;32m     57\u001B[0m     \u001B[38;5;66;03m#centroid_new = X[index_max, :]\u001B[39;00m\n\u001B[1;32m     58\u001B[0m centers\u001B[38;5;241m.\u001B[39mappend(new_centroid\u001B[38;5;241m.\u001B[39mtolist())\n",
      "\u001B[0;31mIndexError\u001B[0m: index 525 is out of bounds for axis 0 with size 500"
     ]
    }
   ],
   "source": [
    "centroids = generate_init_centroid(kmeans, mat)"
   ]
  },
  {
   "cell_type": "code",
   "execution_count": 148,
   "metadata": {},
   "outputs": [
    {
     "name": "stdout",
     "output_type": "stream",
     "text": [
      "[[  0.58387655  -0.74497837]\n",
      " [-10.49214441   7.33088134]\n",
      " [  5.03075382   2.78115795]]\n"
     ]
    }
   ],
   "source": [
    "print(centroids)"
   ]
  },
  {
   "cell_type": "code",
   "execution_count": null,
   "metadata": {},
   "outputs": [],
   "source": []
  }
 ],
 "metadata": {
  "kernelspec": {
   "display_name": "Python 3 (ipykernel)",
   "language": "python",
   "name": "python3"
  },
  "language_info": {
   "codemirror_mode": {
    "name": "ipython",
    "version": 3
   },
   "file_extension": ".py",
   "mimetype": "text/x-python",
   "name": "python",
   "nbconvert_exporter": "python",
   "pygments_lexer": "ipython3",
   "version": "3.9.6"
  }
 },
 "nbformat": 4,
 "nbformat_minor": 1
}
